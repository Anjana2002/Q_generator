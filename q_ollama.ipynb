{
 "cells": [
  {
   "cell_type": "code",
   "execution_count": 1,
   "id": "0a1b8ec7-5292-4da9-b53b-37f9ba27fe46",
   "metadata": {},
   "outputs": [
    {
     "name": "stderr",
     "output_type": "stream",
     "text": [
      "/home/anjana/.local/lib/python3.10/site-packages/tqdm/auto.py:21: TqdmWarning: IProgress not found. Please update jupyter and ipywidgets. See https://ipywidgets.readthedocs.io/en/stable/user_install.html\n",
      "  from .autonotebook import tqdm as notebook_tqdm\n"
     ]
    }
   ],
   "source": [
    "from llama_index.core import SimpleDirectoryReader, VectorStoreIndex, Settings, StorageContext, load_index_from_storage\n",
    "from llama_index.llms.ollama import Ollama\n",
    "from llama_index.embeddings.huggingface import HuggingFaceEmbedding\n",
    "from llama_index.llms.huggingface import HuggingFaceLLM  \n",
    "import os"
   ]
  },
  {
   "cell_type": "code",
   "execution_count": 2,
   "id": "40252565-fd30-439d-92ea-341d99b55313",
   "metadata": {},
   "outputs": [
    {
     "name": "stderr",
     "output_type": "stream",
     "text": [
      "Loading checkpoint shards: 100%|██████████████████| 2/2 [00:17<00:00,  8.98s/it]\n",
      "Some parameters are on the meta device because they were offloaded to the disk and cpu.\n"
     ]
    }
   ],
   "source": [
    "Settings.embed_model = HuggingFaceEmbedding(model_name=\"BAAI/bge-small-en-v1.5\")\n",
    "\n",
    "Settings.llm = HuggingFaceLLM(\n",
    "    model_name=\"mistralai/Mistral-7B-Instruct-v0.1\",  \n",
    "    tokenizer_name=\"mistralai/Mistral-7B-Instruct-v0.1\",\n",
    "    max_new_tokens=512,\n",
    ")"
   ]
  },
  {
   "cell_type": "code",
   "execution_count": 3,
   "id": "124cecb8-a2a1-4d32-8c42-c9445be7aebe",
   "metadata": {},
   "outputs": [],
   "source": [
    "DATA_DIR = \"./question_papers/\"\n",
    "if not os.path.exists(DATA_DIR) or not os.listdir(DATA_DIR):\n",
    "    print(\"Error: No PDFs found in\", DATA_DIR)\n",
    "    exit()"
   ]
  },
  {
   "cell_type": "code",
   "execution_count": 4,
   "id": "4fe53407-c274-4616-96a8-ab6b81362b8f",
   "metadata": {},
   "outputs": [],
   "source": [
    "reader = SimpleDirectoryReader(input_dir=DATA_DIR)\n",
    "documents = reader.load_data()\n",
    "\n",
    "INDEX_DIR = \"storage\""
   ]
  },
  {
   "cell_type": "code",
   "execution_count": 5,
   "id": "7cd7f436-196c-49cb-ab5b-a89810bf70b7",
   "metadata": {},
   "outputs": [
    {
     "name": "stdout",
     "output_type": "stream",
     "text": [
      "Loaded existing index.\n"
     ]
    }
   ],
   "source": [
    "if os.path.exists(INDEX_DIR):\n",
    "    storage_context = StorageContext.from_defaults(persist_dir=INDEX_DIR)\n",
    "    index = load_index_from_storage(storage_context)\n",
    "    print(\"Loaded existing index.\")\n",
    "else: \n",
    "    index = VectorStoreIndex.from_documents(documents)\n",
    "    index.storage_context.persist()  \n",
    "    print(\"Created new index and saved.\")"
   ]
  },
  {
   "cell_type": "code",
   "execution_count": 6,
   "id": "2e243e52-d1eb-4542-86a1-5fed2e94cdc7",
   "metadata": {},
   "outputs": [],
   "source": [
    "query_engine = index.as_query_engine()\n",
    "\n",
    "# Exam Question Paper Prompt\n",
    "question_paper_prompt = \"\"\"  \n",
    "You are an expert in academic exam paper generation. Given previous years' question papers and notes,  \n",
    "generate a new set of questions following the same format.  \n",
    "Ensure the difficulty distribution is similar and avoid direct repetition.  \n",
    "\n",
    "Format:\n",
    "1. Section A - Short answer questions - 3 questions (5 marks each)  \n",
    "2. Section B - Medium answer questions - 3 questions (10 marks each)  \n",
    "3. Section C - Long answer questions - 2 questions (15 marks each)  \n",
    "\"\"\""
   ]
  },
  {
   "cell_type": "code",
   "execution_count": 7,
   "id": "e010b2a3-fae2-4634-8ab3-508422c2c01d",
   "metadata": {},
   "outputs": [
    {
     "name": "stderr",
     "output_type": "stream",
     "text": [
      "Setting `pad_token_id` to `eos_token_id`:2 for open-end generation.\n"
     ]
    },
    {
     "name": "stdout",
     "output_type": "stream",
     "text": [
      "\n",
      "Generated Question Paper:\n",
      " \n",
      "\n",
      "Section A - Short answer questions - 3 questions (5 marks each)\n",
      "\n",
      "1. What is recursion?\n",
      "2. What are the two conditions that must be satisfied for a problem to be solved recursively?\n",
      "3. What is the factorial of a number?\n",
      "\n",
      "Section B - Medium answer questions - 3 questions (10 marks each)\n",
      "\n",
      "1. Write a recursive function to find the sum of the first n natural numbers.\n",
      "2. Write a recursive function to find the product of the first n natural numbers.\n",
      "3. Write a recursive function to find the factorial of a number.\n",
      "\n",
      "Section C - Long answer questions - 2 questions (15 marks each)\n",
      "\n",
      "1. Write a recursive function to find the nth Fibonacci number.\n",
      "2. Write a recursive function to find the nth term of the harmonic series.\n",
      "\n",
      "Note: The above questions are just examples and can be modified based on the specific requirements of the exam paper.\n"
     ]
    }
   ],
   "source": [
    "response = query_engine.query(question_paper_prompt)\n",
    "print(\"\\nGenerated Question Paper:\\n\", response)"
   ]
  }
 ],
 "metadata": {
  "kernelspec": {
   "display_name": "Python 3 (ipykernel)",
   "language": "python",
   "name": "python3"
  },
  "language_info": {
   "codemirror_mode": {
    "name": "ipython",
    "version": 3
   },
   "file_extension": ".py",
   "mimetype": "text/x-python",
   "name": "python",
   "nbconvert_exporter": "python",
   "pygments_lexer": "ipython3",
   "version": "3.10.12"
  }
 },
 "nbformat": 4,
 "nbformat_minor": 5
}
